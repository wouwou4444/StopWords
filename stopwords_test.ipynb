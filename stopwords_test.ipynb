{
 "cells": [
  {
   "cell_type": "code",
   "execution_count": 1,
   "metadata": {},
   "outputs": [],
   "source": [
    "%load_ext autoreload\n",
    "%autoreload 2"
   ]
  },
  {
   "cell_type": "code",
   "execution_count": 2,
   "metadata": {},
   "outputs": [],
   "source": [
    "from sklearn.feature_extraction.text import ENGLISH_STOP_WORDS"
   ]
  },
  {
   "cell_type": "code",
   "execution_count": 3,
   "metadata": {},
   "outputs": [
    {
     "data": {
      "text/plain": [
       "(frozenset, True)"
      ]
     },
     "execution_count": 3,
     "metadata": {},
     "output_type": "execute_result"
    }
   ],
   "source": [
    "type(ENGLISH_STOP_WORDS), type(ENGLISH_STOP_WORDS) in (frozenset, list, set)"
   ]
  },
  {
   "cell_type": "markdown",
   "metadata": {},
   "source": [
    "f = open(\"my_stopwords.lst\", \"r\")\n",
    "for word in iter(f.read, ''):\n",
    "    print(word)"
   ]
  },
  {
   "cell_type": "markdown",
   "metadata": {},
   "source": [
    "try:\n",
    "    with open(\"my_stopwords.lst\", \"r\") as file_stop_words:\n",
    "        words = file_stop_words.readlines()\n",
    "        words = [ word.rstrip() for word in words]\n",
    "except Exception as e:\n",
    "    print(e)"
   ]
  },
  {
   "cell_type": "markdown",
   "metadata": {},
   "source": [
    "words"
   ]
  },
  {
   "cell_type": "code",
   "execution_count": 61,
   "metadata": {},
   "outputs": [],
   "source": [
    "class StopWordList:\n",
    "    \"\"\"\n",
    "        list of stopwords and operations\n",
    "    \"\"\"\n",
    "    \n",
    "    def __init__(self, language = \"\", word_list = [], file = None):\n",
    "        self.stop_words = []\n",
    "        self.add_language(language)\n",
    "        self.extend(word_list)\n",
    "        self.import_file(file)\n",
    "    \n",
    "    def extend(self, word_list):\n",
    "        if type(word_list) in (frozenset, list, set):\n",
    "            self.stop_words.extend(word_list)\n",
    "        else:\n",
    "            print(f\"WARNING: word_list: {word_list} is not a list\")\n",
    "            print(f\"type: {type(word_list)}\")\n",
    "        self.rationalize()\n",
    "        \n",
    "    def add_language(self, language = \"english\"):\n",
    "        if language == \"english\":\n",
    "            self.extend(ENGLISH_STOP_WORDS)\n",
    "        else:\n",
    "            print(f\"WARNING: language '{language}' not yet implemented\")\n",
    "\n",
    "    def import_file(self, file_path ):\n",
    "        if file_path is None or file_path == \"\":\n",
    "            print(\"WARNING: no file path given\")\n",
    "        else:\n",
    "            try:\n",
    "                with open(file_path, \"r\") as file_stop_words:\n",
    "                    words = file_stop_words.readlines()\n",
    "                    words = [ word.rstrip() for word in words]\n",
    "                    self.extend(words)\n",
    "            except Exception as err:\n",
    "                print(err)\n",
    "                    \n",
    "    def rationalize(self):\n",
    "        self.stop_words = list(set(self.stop_words))\n",
    "        self.drop_word('')\n",
    "        return self.stop_words\n",
    "\n",
    "    def drop_word(self, word):\n",
    "        if word in self.stop_words:\n",
    "            self.stop_words.remove(word)\n",
    "\n",
    "    def drop_word_list(self, word_list):\n",
    "        for word in word_list:\n",
    "            self.drop_word(word)\n",
    "\n",
    "\n",
    "    def print(self):\n",
    "        print(self.stop_words)"
   ]
  },
  {
   "cell_type": "code",
   "execution_count": 32,
   "metadata": {},
   "outputs": [
    {
     "name": "stdout",
     "output_type": "stream",
     "text": [
      "WARNING: no file path given\n",
      "['few', 'every', 'i', 'other', 'everyone', 'we', 'wherever', 'an', 'you', 'almost', 'indeed', 'eleven', 'between', 'four', 'whereas', 'hundred', 'seemed', 'ie', 'made', 'else', 'sixty', 'cry', 'nine', 'thick', 'becoming', 'see', 'have', 'too', 'please', 'back', 'among', 'amongst', 'neither', 'three', 'amount', 'two', 'except', 'could', 'interest', 'show', 'himself', 'on', 'what', 'whose', 'via', 'namely', 'same', 'whereafter', 'he', 'first', 'at', 'mill', 'either', 'are', 'against', 'each', 'such', 'third', 'down', 'above', 'both', 'who', 'formerly', 'bottom', 'everywhere', 'should', 'afterwards', 'all', 'herein', 'thereupon', 'am', 'him', 'upon', 'hasnt', 'them', 'nothing', 'forty', 'etc', 'six', 'under', 'towards', 'un', 'get', 'fire', 'beforehand', 'once', 'his', 'about', 'last', 'detail', 'than', 'those', 'least', 'find', 'without', 'hereupon', 'fill', 'because', 'everything', 'the', 'con', 'yours', 'whatever', 'ourselves', 'until', 'ltd', 'been', 'whereby', 'toward', 'another', 'rather', 'your', 'alone', 'her', 'its', 'some', 'cannot', 'how', 'done', 'across', 'co', 'thereafter', 'seeming', 'something', 'during', 'per', 'myself', 'when', 'whole', 'put', 'around', 'whereupon', 'ours', 'whenever', 'and', 'then', 'whither', 'top', 'it', 'off', 'so', 'be', 'system', 'moreover', 'that', 'might', 'take', 'cant', 'would', 'a', 'which', 'twenty', 'several', 'no', 'beyond', 'somewhere', 'where', 'ten', 'therein', 'inc', 'become', 'through', 'ever', 'mostly', 'keep', 'already', 'again', 'hence', 'became', 'very', 'can', 'itself', 'whom', 'along', 'while', 'sometimes', 'whoever', 'otherwise', 'however', 'thin', 'thereby', 'most', 'besides', 'couldnt', 'serious', 'their', 'seems', 'from', 'hereafter', 'only', 'well', 'below', 'more', 'for', 'even', 'seem', 'move', 'fifteen', 'yet', 'go', 'twelve', 'meanwhile', 'anyone', 'de', 'our', 'beside', 'anyhow', 'thru', 'eight', 'will', 'do', 'must', 'was', 'before', 'this', 'much', 'being', 'never', 'nevertheless', 'of', 'amoungst', 'others', 'after', 'any', 'therefore', 'sometime', 'behind', 'there', 'together', 'former', 'name', 'often', 'bill', 'why', 'she', 'whether', 'out', 'thus', 'they', 'since', 'now', 'hereby', 'found', 'nor', 'not', 'yourselves', 'anywhere', 'mine', 'nobody', 'none', 'anything', 'my', 'to', 'give', 'herself', 'over', 'may', 'elsewhere', 'onto', 'here', 'hers', 'themselves', 'someone', 'fifty', 'us', 'by', 'empty', 'somehow', 'though', 'whence', 'perhaps', 'many', 'up', 'noone', 'were', 'but', 'one', 'into', 'due', 'becomes', 'further', 'own', 'had', 'sincere', 'is', 'throughout', 'thence', 'if', 'still', 'although', 'side', 'nowhere', 'latter', 'me', 'wherein', 'anyway', 'with', 'less', 'has', 'also', 'latterly', 'or', 'always', 'part', 're', 'enough', 'yourself', 'call', 'full', 'next', 'describe', 'eg', 'front', 'these', 'as', 'within', 'in', 'five']\n"
     ]
    }
   ],
   "source": [
    "_stopwords  = StopWordList(\"english\")\n",
    "_stopwords.print()"
   ]
  },
  {
   "cell_type": "code",
   "execution_count": 33,
   "metadata": {},
   "outputs": [
    {
     "name": "stdout",
     "output_type": "stream",
     "text": [
      "WARNING: language '' not yet implemented\n",
      "WARNING: no file path given\n"
     ]
    }
   ],
   "source": [
    "_stopwords  = StopWordList()"
   ]
  },
  {
   "cell_type": "code",
   "execution_count": 35,
   "metadata": {},
   "outputs": [
    {
     "name": "stdout",
     "output_type": "stream",
     "text": [
      "[]\n"
     ]
    }
   ],
   "source": [
    "_stopwords.print()"
   ]
  },
  {
   "cell_type": "code",
   "execution_count": 36,
   "metadata": {},
   "outputs": [
    {
     "name": "stdout",
     "output_type": "stream",
     "text": [
      "WARNING: language '' not yet implemented\n",
      "[Errno 2] No such file or directory: 'test'\n"
     ]
    }
   ],
   "source": [
    "_stopwords  = StopWordList(file = \"test\")"
   ]
  },
  {
   "cell_type": "code",
   "execution_count": 37,
   "metadata": {},
   "outputs": [
    {
     "name": "stdout",
     "output_type": "stream",
     "text": [
      "[]\n"
     ]
    }
   ],
   "source": [
    "_stopwords.print()"
   ]
  },
  {
   "cell_type": "code",
   "execution_count": 38,
   "metadata": {},
   "outputs": [
    {
     "name": "stdout",
     "output_type": "stream",
     "text": [
      "WARNING: language '' not yet implemented\n",
      "WARNING: word_list: {word_list} is not a list\n",
      "WARNING: no file path given\n"
     ]
    }
   ],
   "source": [
    "_stopwords  = StopWordList(word_list= \"un\")"
   ]
  },
  {
   "cell_type": "code",
   "execution_count": 39,
   "metadata": {},
   "outputs": [
    {
     "name": "stdout",
     "output_type": "stream",
     "text": [
      "[]\n"
     ]
    }
   ],
   "source": [
    "_stopwords.print()"
   ]
  },
  {
   "cell_type": "code",
   "execution_count": 40,
   "metadata": {},
   "outputs": [
    {
     "name": "stdout",
     "output_type": "stream",
     "text": [
      "WARNING: language '' not yet implemented\n",
      "WARNING: no file path given\n"
     ]
    }
   ],
   "source": [
    "_stopwords  = StopWordList(word_list= [\"un\"])"
   ]
  },
  {
   "cell_type": "code",
   "execution_count": 41,
   "metadata": {},
   "outputs": [
    {
     "name": "stdout",
     "output_type": "stream",
     "text": [
      "['un']\n"
     ]
    }
   ],
   "source": [
    "_stopwords.print()"
   ]
  },
  {
   "cell_type": "code",
   "execution_count": 10,
   "metadata": {},
   "outputs": [],
   "source": [
    "_stopwords.import_file(\"README.md\")"
   ]
  },
  {
   "cell_type": "code",
   "execution_count": 8,
   "metadata": {},
   "outputs": [
    {
     "name": "stdout",
     "output_type": "stream",
     "text": [
      "['', 'few', 'every', 'i', 'other', 'we', 'everyone', 'wherever', 'an', 'you', 'almost', 'indeed', 'eleven', 'between', 'four', 'whereas', 'hundred', 'seemed', 'ie', 'made', 'else', 'sixty', 'cry', 'nine', 'thick', 'becoming', 'see', 'have', 'too', 'please', 'back', 'among', 'amongst', 'neither', 'three', 'amount', 'two', 'except', 'could', 'interest', 'show', 'himself', 'on', 'what', 'whose', 'via', 'namely', 'same', 'whereafter', 'he', 'first', 'at', 'mill', 'either', 'are', 'against', 'each', 'such', 'third', 'down', 'above', 'both', 'who', 'formerly', 'bottom', 'everywhere', 'should', 'afterwards', 'all', 'herein', 'thereupon', 'am', 'him', 'upon', 'hasnt', 'them', 'nothing', 'forty', 'etc', 'six', 'under', 'towards', 'un', 'get', 'fire', 'beforehand', 'once', 'his', 'about', 'last', 'detail', 'than', 'those', 'least', 'find', 'without', 'hereupon', 'fill', 'because', 'everything', 'the', 'con', 'yours', 'whatever', 'ourselves', 'until', 'ltd', 'been', 'whereby', 'toward', 'another', 'rather', 'your', 'alone', 'her', 'its', 'some', 'cannot', 'how', 'done', 'across', 'co', 'thereafter', 'seeming', 'something', 'during', 'per', 'myself', 'when', 'whole', 'put', 'around', 'whereupon', 'ours', 'whenever', 'and', 'then', 'whither', 'top', 'it', 'off', 'so', 'be', 'system', 'moreover', 'that', 'might', 'take', 'cant', 'would', 'a', 'which', 'twenty', 'several', 'no', 'beyond', 'somewhere', 'where', 'ten', 'therein', 'inc', 'become', 'through', 'ever', 'mostly', 'keep', 'already', 'again', 'hence', 'became', 'very', 'can', 'itself', 'whom', 'along', 'while', 'sometimes', 'whoever', 'otherwise', 'however', 'thin', '## Creation of custom transform', 'thereby', 'most', 'besides', 'couldnt', 'serious', 'their', 'seems', 'from', 'hereafter', 'only', 'well', 'below', 'more', 'for', 'even', 'seem', 'move', 'fifteen', 'yet', 'go', 'twelve', 'meanwhile', 'anyone', 'de', 'our', 'beside', 'anyhow', 'thru', 'eight', 'will', 'do', 'must', 'was', 'before', 'this', 'much', 'being', 'never', 'nevertheless', 'of', 'amoungst', 'others', 'after', 'any', 'therefore', 'sometime', 'behind', 'there', 'together', 'former', 'name', 'often', 'bill', 'why', 'she', 'whether', 'out', 'thus', 'they', 'since', 'now', 'hereby', 'found', 'nor', 'not', 'yourselves', 'anywhere', 'mine', '# Pipeline feature test with sklearn package', 'nobody', 'none', 'anything', 'my', 'to', 'give', 'herself', 'over', 'may', 'elsewhere', 'onto', 'here', 'hers', 'themselves', 'someone', 'fifty', 'us', 'by', 'empty', 'somehow', 'though', 'whence', 'perhaps', 'many', 'up', 'noone', 'were', 'but', 'one', 'into', 'due', 'becomes', 'further', 'own', 'had', 'sincere', 'is', 'throughout', 'thence', 'if', 'still', 'although', 'side', 'nowhere', 'latter', 'me', 'wherein', 'anyway', 'with', 'less', 'has', 'also', 'latterly', 'or', 'always', 'part', 're', '## different examples', 'enough', 'yourself', 'call', 'full', 'next', 'describe', 'eg', 'front', 'these', 'as', 'within', 'in', 'five']\n"
     ]
    }
   ],
   "source": [
    "_stopwords.print()"
   ]
  },
  {
   "cell_type": "markdown",
   "metadata": {},
   "source": [
    "# Test 1"
   ]
  },
  {
   "cell_type": "code",
   "execution_count": 76,
   "metadata": {},
   "outputs": [
    {
     "name": "stdout",
     "output_type": "stream",
     "text": [
      "WARNING: language '' not yet implemented\n"
     ]
    }
   ],
   "source": [
    "_stopwords = StopWordList(file=\"my_stopwords.lst\")"
   ]
  },
  {
   "cell_type": "code",
   "execution_count": 77,
   "metadata": {},
   "outputs": [
    {
     "name": "stdout",
     "output_type": "stream",
     "text": [
      "['org', 'java', 'python']\n"
     ]
    }
   ],
   "source": [
    "_stopwords.print()"
   ]
  },
  {
   "cell_type": "code",
   "execution_count": 78,
   "metadata": {},
   "outputs": [
    {
     "data": {
      "text/plain": [
       "['org', 'java', 'python']"
      ]
     },
     "execution_count": 78,
     "metadata": {},
     "output_type": "execute_result"
    }
   ],
   "source": [
    "_stopwords.rationalize()"
   ]
  },
  {
   "cell_type": "markdown",
   "metadata": {},
   "source": [
    "# Test 2 "
   ]
  },
  {
   "cell_type": "code",
   "execution_count": 68,
   "metadata": {},
   "outputs": [
    {
     "name": "stdout",
     "output_type": "stream",
     "text": [
      "WARNING: language '' not yet implemented\n"
     ]
    }
   ],
   "source": [
    "_stopwords = StopWordList(word_list=[\"un\"] ,file=\"README.md\")"
   ]
  },
  {
   "cell_type": "code",
   "execution_count": 69,
   "metadata": {},
   "outputs": [
    {
     "name": "stdout",
     "output_type": "stream",
     "text": [
      "['# Pipeline feature test with sklearn package', '## Creation of custom transform', 'un', '## different examples']\n"
     ]
    }
   ],
   "source": [
    "_stopwords.print()"
   ]
  },
  {
   "cell_type": "code",
   "execution_count": 70,
   "metadata": {},
   "outputs": [
    {
     "data": {
      "text/plain": [
       "([False, False, False, False], False)"
      ]
     },
     "execution_count": 70,
     "metadata": {},
     "output_type": "execute_result"
    }
   ],
   "source": [
    " [ word == '' for word in _stopwords.stop_words], '' in _stopwords.stop_words"
   ]
  },
  {
   "cell_type": "code",
   "execution_count": 71,
   "metadata": {},
   "outputs": [
    {
     "data": {
      "text/plain": [
       "['# Pipeline feature test with sklearn package',\n",
       " 'un',\n",
       " '## different examples',\n",
       " '## Creation of custom transform']"
      ]
     },
     "execution_count": 71,
     "metadata": {},
     "output_type": "execute_result"
    }
   ],
   "source": [
    "_stopwords.rationalize()"
   ]
  },
  {
   "cell_type": "code",
   "execution_count": 72,
   "metadata": {},
   "outputs": [
    {
     "data": {
      "text/plain": [
       "([False, False, False, False], False)"
      ]
     },
     "execution_count": 72,
     "metadata": {},
     "output_type": "execute_result"
    }
   ],
   "source": [
    " [ word == '' for word in _stopwords.stop_words], '' in _stopwords.stop_words"
   ]
  },
  {
   "cell_type": "code",
   "execution_count": 73,
   "metadata": {},
   "outputs": [],
   "source": [
    "_stopwords.drop_word('un')"
   ]
  },
  {
   "cell_type": "code",
   "execution_count": 74,
   "metadata": {},
   "outputs": [
    {
     "data": {
      "text/plain": [
       "['# Pipeline feature test with sklearn package',\n",
       " '## different examples',\n",
       " '## Creation of custom transform']"
      ]
     },
     "execution_count": 74,
     "metadata": {},
     "output_type": "execute_result"
    }
   ],
   "source": [
    "_stopwords.rationalize()"
   ]
  },
  {
   "cell_type": "code",
   "execution_count": 75,
   "metadata": {},
   "outputs": [
    {
     "name": "stdout",
     "output_type": "stream",
     "text": [
      "['few', 'every', 'i', 'other', 'we', 'everyone', 'wherever', 'an', 'you', 'almost', 'indeed', 'eleven', 'between', 'four', 'whereas', 'hundred', 'seemed', 'ie', 'made', 'else', 'sixty', 'cry', 'nine', 'thick', 'becoming', 'see', 'have', 'too', 'please', 'back', 'among', 'amongst', 'neither', 'three', 'amount', 'two', 'except', 'could', 'interest', 'show', 'himself', 'on', 'what', 'whose', 'via', 'namely', 'same', 'whereafter', 'he', 'first', 'at', 'mill', 'either', 'are', 'against', 'each', 'such', 'third', 'down', 'above', 'both', 'who', 'formerly', 'bottom', 'everywhere', 'should', 'afterwards', 'all', 'herein', 'thereupon', 'am', 'him', 'upon', 'hasnt', 'them', 'nothing', 'forty', 'etc', 'six', 'under', 'towards', 'un', 'get', 'fire', 'beforehand', 'once', 'his', 'about', 'last', 'detail', 'than', 'those', 'least', 'find', 'without', 'hereupon', 'fill', 'because', 'everything', 'the', 'con', 'yours', 'whatever', 'ourselves', 'until', 'ltd', 'been', 'whereby', 'toward', 'another', 'rather', 'your', 'alone', 'her', 'its', 'some', 'cannot', 'how', 'done', 'across', 'co', 'thereafter', 'seeming', 'something', 'during', 'per', 'myself', 'when', 'whole', 'put', 'around', 'whereupon', 'ours', 'whenever', 'and', 'then', 'whither', 'top', 'it', 'off', 'so', 'be', 'system', 'moreover', 'that', 'might', 'take', 'cant', 'would', 'a', 'which', 'twenty', 'several', 'no', 'beyond', 'somewhere', 'where', 'ten', 'therein', 'inc', 'become', 'through', 'ever', 'mostly', 'keep', 'already', 'again', 'hence', 'became', 'very', 'can', 'itself', 'whom', 'along', 'while', 'sometimes', 'whoever', 'otherwise', 'however', 'thin', '## Creation of custom transform', 'thereby', 'most', 'besides', 'couldnt', 'serious', 'their', 'seems', 'from', 'hereafter', 'only', 'well', 'below', 'more', 'for', 'even', 'seem', 'move', 'fifteen', 'yet', 'go', 'twelve', 'meanwhile', 'anyone', 'de', 'our', 'beside', 'anyhow', 'thru', 'eight', 'will', 'do', 'must', 'was', 'before', 'this', 'much', 'being', 'never', 'nevertheless', 'of', 'amoungst', 'others', 'after', 'any', 'therefore', 'sometime', 'behind', 'there', 'together', 'former', 'name', 'often', 'bill', 'why', 'she', 'whether', 'out', 'thus', 'they', 'since', 'now', 'hereby', 'found', 'nor', 'not', 'yourselves', 'anywhere', 'mine', '# Pipeline feature test with sklearn package', 'nobody', 'none', 'anything', 'my', 'to', 'give', 'herself', 'over', 'may', 'elsewhere', 'onto', 'here', 'hers', 'themselves', 'someone', 'fifty', 'us', 'by', 'empty', 'somehow', 'though', 'whence', 'perhaps', 'many', 'up', 'noone', 'were', 'but', 'one', 'into', 'due', 'becomes', 'further', 'own', 'had', 'sincere', 'is', 'deux', 'throughout', 'thence', 'if', 'still', 'although', 'side', 'nowhere', 'latter', 'me', 'wherein', 'anyway', 'with', 'less', 'has', 'also', 'latterly', 'or', 'always', 'part', 're', '## different examples', 'enough', 'yourself', 'call', 'full', 'next', 'describe', 'eg', 'front', 'these', 'as', 'within', 'in', 'five']\n"
     ]
    }
   ],
   "source": [
    "__stopwords = StopWordList(\"english\", [\"un\", \"deux\"], \"README.md\")\n",
    "__stopwords.print()"
   ]
  },
  {
   "cell_type": "code",
   "execution_count": 131,
   "metadata": {},
   "outputs": [
    {
     "name": "stdout",
     "output_type": "stream",
     "text": [
      "['', 'against', 'wherein', 'amongst', 'your', 'most', 'along', 'was', 'anyway', 'ten', 'several', 'front', 'how', 'myself', 'meanwhile', 'might', 'again', 'latter', 'something', 'whether', 'three', 'hers', 'ever', 'however', 'together', 'may', 'nevertheless', 'once', 'yours', 'his', 'well', 'seem', 'within', 'whenever', 'everything', 'beforehand', 'except', '## Creation of custom transform', 'twenty', 'indeed', 'found', 'sixty', 'somehow', 'should', 'seeming', 'whom', 'enough', 'afterwards', 'one', 'me', 'thence', '# Pipeline feature test with sklearn package', 'keep', 'twelve', 'whatever', 'the', 'yourself', 'hereby', 'another', 'be', 'he', 'same', 'above', 'eleven', 'has', 'into', 'etc', 'up', 'done', 'go', 'him', 'describe', 'whereby', 'will', 'where', 'being', 'through', 'them', 'among', 'top', 'moreover', 'others', 'rather', 'its', 'since', 'must', 'alone', 'thin', 'still', 'over', 'forty', 'hereafter', 'no', 'about', 'none', 'wherever', 'with', 'would', 'upon', 'behind', 'under', 'an', 'four', 'that', 'ltd', 'latterly', 'yet', 'besides', 'sincere', 'hence', 'they', 'thereupon', 'ours', 'we', 'my', 'thereafter', 'serious', 'below', 'this', 'whoever', 'neither', 'nobody', 'our', 're', 'for', 'fifteen', 'hundred', 'con', 'such', 'becoming', 'in', 'anyone', 'then', 'though', 'amoungst', 'hasnt', 'six', 'elsewhere', 'while', 'these', 'de', 'third', 'across', 'down', 'either', 'whole', 'am', 'became', 'there', 'she', 'if', 'why', 'onto', 'un', 'too', 'back', 'both', 'not', 'what', 'nine', 'made', 'those', 'on', 'see', 'therefore', 'which', 'hereupon', 'have', 'therein', 'at', 'mine', 'throughout', 'formerly', 'nowhere', 'very', 'are', 'couldnt', 'so', 'two', 'between', 'until', 'thus', 'fill', 'around', 'full', 'everyone', 'always', 'sometimes', 'amount', 'side', 'seems', 'eg', 'less', 'without', 'becomes', 'interest', 'had', 'because', 'anywhere', 'thereby', 'or', 'now', 'whereafter', 'from', 'who', 'herein', 'and', 'yourselves', 'nothing', 'much', 'is', 'do', 'can', 'herself', 'system', 'toward', 'ie', 'thru', 'although', 'empty', 'detail', 'itself', 'move', 'co', 'take', 'find', 'only', 'you', 'namely', 'any', 'everywhere', 'show', 'out', 'by', 'give', 'themselves', 'put', 'often', 'thick', '## different examples', 'call', 'mostly', 'per', 'us', 'after', 'whereas', 'even', 'it', 'somewhere', 'also', 'more', 'some', 'himself', 'else', 'whither', 'all', 'nor', 'noone', 'bottom', 'first', 'many', 'beside', 'whose', 'last', 'before', 'get', 'here', 'cant', 'otherwise', 'further', 'anything', 'whence', 'become', 'but', 'than', 'sometime', 'please', 'due', 'as', 'every', 'bill', 'anyhow', 'someone', 'a', 'next', 'perhaps', 'already', 'name', 'other', 'never', 'part', 'via', 'been', 'were', 'ourselves', 'few', 'five', 'eight', 'of', 'own', 'fire', 'beyond', 'fifty', 'seemed', 'towards', 'inc', 'former', 'during', 'cannot', 'i', 'when', 'off', 'least', 'mill', 'her', 'whereupon', 'their', 'could', 'cry', 'each', 'almost', 'to']\n"
     ]
    }
   ],
   "source": [
    "__stopwords = StopWordList(\"english\")\n",
    "__stopwords.import_file(\"README.md\")\n",
    "__stopwords.print()"
   ]
  },
  {
   "cell_type": "code",
   "execution_count": 133,
   "metadata": {},
   "outputs": [],
   "source": [
    "_stopwords.rationalize()"
   ]
  },
  {
   "cell_type": "code",
   "execution_count": 32,
   "metadata": {},
   "outputs": [],
   "source": [
    "_stopwords.add(['test', 'word'])"
   ]
  },
  {
   "cell_type": "code",
   "execution_count": 33,
   "metadata": {},
   "outputs": [
    {
     "name": "stdout",
     "output_type": "stream",
     "text": [
      "['against', 'wherein', 'amongst', 'your', 'most', 'along', 'was', 'anyway', 'ten', 'several', 'front', 'how', 'myself', 'meanwhile', 'might', 'again', 'latter', 'something', 'whether', 'three', 'hers', 'ever', 'however', 'together', 'may', 'nevertheless', 'once', 'yours', 'his', 'well', 'seem', 'within', 'whenever', 'everything', 'beforehand', 'except', 'twenty', 'indeed', 'found', 'sixty', 'somehow', 'should', 'seeming', 'whom', 'enough', 'afterwards', 'one', 'me', 'thence', 'keep', 'twelve', 'whatever', 'the', 'yourself', 'hereby', 'another', 'be', 'he', 'same', 'above', 'eleven', 'has', 'into', 'etc', 'up', 'done', 'go', 'him', 'describe', 'whereby', 'will', 'where', 'being', 'through', 'them', 'among', 'top', 'moreover', 'others', 'rather', 'its', 'since', 'must', 'alone', 'thin', 'still', 'over', 'forty', 'hereafter', 'no', 'about', 'none', 'wherever', 'with', 'would', 'upon', 'behind', 'under', 'an', 'four', 'that', 'ltd', 'latterly', 'yet', 'besides', 'sincere', 'hence', 'they', 'thereupon', 'ours', 'we', 'my', 'thereafter', 'serious', 'below', 'this', 'whoever', 'neither', 'nobody', 'our', 're', 'for', 'fifteen', 'hundred', 'con', 'such', 'becoming', 'in', 'anyone', 'then', 'though', 'amoungst', 'hasnt', 'six', 'elsewhere', 'while', 'these', 'de', 'third', 'across', 'down', 'either', 'whole', 'am', 'became', 'there', 'she', 'if', 'why', 'onto', 'un', 'too', 'back', 'both', 'not', 'what', 'nine', 'made', 'those', 'on', 'see', 'therefore', 'which', 'hereupon', 'have', 'therein', 'at', 'mine', 'throughout', 'formerly', 'nowhere', 'very', 'are', 'couldnt', 'so', 'two', 'between', 'until', 'thus', 'fill', 'around', 'full', 'everyone', 'always', 'sometimes', 'amount', 'side', 'seems', 'eg', 'less', 'without', 'becomes', 'interest', 'had', 'because', 'anywhere', 'thereby', 'or', 'now', 'whereafter', 'from', 'who', 'herein', 'and', 'yourselves', 'nothing', 'much', 'is', 'do', 'can', 'herself', 'system', 'toward', 'ie', 'thru', 'although', 'empty', 'detail', 'itself', 'move', 'co', 'take', 'find', 'only', 'you', 'namely', 'any', 'everywhere', 'show', 'out', 'by', 'word', 'give', 'themselves', 'put', 'often', 'thick', 'call', 'mostly', 'per', 'us', 'after', 'whereas', 'even', 'it', 'somewhere', 'also', 'more', 'some', 'himself', 'else', 'whither', 'all', 'nor', 'noone', 'bottom', 'first', 'many', 'beside', 'whose', 'last', 'before', 'get', 'here', 'cant', 'otherwise', 'further', 'anything', 'whence', 'become', 'but', 'than', 'sometime', 'please', 'due', 'as', 'every', 'bill', 'anyhow', 'someone', 'a', 'next', 'perhaps', 'already', 'name', 'other', 'never', 'part', 'via', 'been', 'were', 'ourselves', 'few', 'test', 'five', 'eight', 'of', 'own', 'fire', 'beyond', 'fifty', 'seemed', 'towards', 'inc', 'former', 'during', 'cannot', 'i', 'when', 'off', 'least', 'mill', 'her', 'whereupon', 'their', 'could', 'cry', 'each', 'almost', 'to']\n"
     ]
    }
   ],
   "source": [
    "_stopwords.print()"
   ]
  },
  {
   "cell_type": "code",
   "execution_count": 34,
   "metadata": {},
   "outputs": [],
   "source": [
    "_stopwords.add(['test', 'word'])"
   ]
  },
  {
   "cell_type": "code",
   "execution_count": 35,
   "metadata": {},
   "outputs": [
    {
     "name": "stdout",
     "output_type": "stream",
     "text": [
      "['against', 'wherein', 'amongst', 'your', 'most', 'along', 'was', 'anyway', 'ten', 'several', 'front', 'how', 'myself', 'meanwhile', 'might', 'again', 'latter', 'something', 'whether', 'three', 'hers', 'ever', 'however', 'together', 'may', 'nevertheless', 'once', 'yours', 'his', 'well', 'seem', 'within', 'whenever', 'everything', 'beforehand', 'except', 'twenty', 'indeed', 'found', 'sixty', 'somehow', 'should', 'seeming', 'whom', 'enough', 'afterwards', 'one', 'me', 'thence', 'keep', 'twelve', 'whatever', 'the', 'yourself', 'hereby', 'another', 'be', 'he', 'same', 'above', 'eleven', 'has', 'into', 'etc', 'up', 'done', 'go', 'him', 'describe', 'whereby', 'will', 'where', 'being', 'through', 'them', 'among', 'top', 'moreover', 'others', 'rather', 'its', 'since', 'must', 'alone', 'thin', 'still', 'over', 'forty', 'hereafter', 'no', 'about', 'none', 'wherever', 'with', 'would', 'upon', 'behind', 'under', 'an', 'four', 'that', 'ltd', 'latterly', 'yet', 'besides', 'sincere', 'hence', 'they', 'thereupon', 'ours', 'we', 'my', 'thereafter', 'serious', 'below', 'this', 'whoever', 'neither', 'nobody', 'our', 're', 'for', 'fifteen', 'hundred', 'con', 'such', 'becoming', 'in', 'anyone', 'then', 'though', 'amoungst', 'hasnt', 'six', 'elsewhere', 'while', 'these', 'de', 'third', 'across', 'down', 'either', 'whole', 'am', 'became', 'there', 'she', 'if', 'why', 'onto', 'un', 'too', 'back', 'both', 'not', 'what', 'nine', 'made', 'those', 'on', 'see', 'therefore', 'which', 'hereupon', 'have', 'therein', 'at', 'mine', 'throughout', 'formerly', 'nowhere', 'very', 'are', 'couldnt', 'so', 'two', 'between', 'until', 'thus', 'fill', 'around', 'full', 'everyone', 'always', 'sometimes', 'amount', 'side', 'seems', 'eg', 'less', 'without', 'becomes', 'interest', 'had', 'because', 'anywhere', 'thereby', 'or', 'now', 'whereafter', 'from', 'who', 'herein', 'and', 'yourselves', 'nothing', 'much', 'is', 'do', 'can', 'herself', 'system', 'toward', 'ie', 'thru', 'although', 'empty', 'detail', 'itself', 'move', 'co', 'take', 'find', 'only', 'you', 'namely', 'any', 'everywhere', 'show', 'out', 'by', 'word', 'give', 'themselves', 'put', 'often', 'thick', 'call', 'mostly', 'per', 'us', 'after', 'whereas', 'even', 'it', 'somewhere', 'also', 'more', 'some', 'himself', 'else', 'whither', 'all', 'nor', 'noone', 'bottom', 'first', 'many', 'beside', 'whose', 'last', 'before', 'get', 'here', 'cant', 'otherwise', 'further', 'anything', 'whence', 'become', 'but', 'than', 'sometime', 'please', 'due', 'as', 'every', 'bill', 'anyhow', 'someone', 'a', 'next', 'perhaps', 'already', 'name', 'other', 'never', 'part', 'via', 'been', 'were', 'test', 'ourselves', 'few', 'five', 'eight', 'of', 'own', 'fire', 'beyond', 'fifty', 'seemed', 'towards', 'inc', 'former', 'during', 'cannot', 'i', 'when', 'off', 'least', 'mill', 'her', 'whereupon', 'their', 'could', 'cry', 'each', 'almost', 'to']\n"
     ]
    }
   ],
   "source": [
    "_stopwords.print()"
   ]
  },
  {
   "cell_type": "code",
   "execution_count": 36,
   "metadata": {},
   "outputs": [],
   "source": [
    "_stopwords.add(['test1', 'word2'])"
   ]
  },
  {
   "cell_type": "code",
   "execution_count": 37,
   "metadata": {},
   "outputs": [
    {
     "name": "stdout",
     "output_type": "stream",
     "text": [
      "['against', 'wherein', 'amongst', 'your', 'most', 'along', 'was', 'anyway', 'ten', 'several', 'front', 'how', 'myself', 'meanwhile', 'might', 'again', 'latter', 'something', 'whether', 'three', 'hers', 'ever', 'however', 'together', 'may', 'nevertheless', 'once', 'yours', 'his', 'well', 'seem', 'within', 'whenever', 'everything', 'beforehand', 'except', 'twenty', 'indeed', 'found', 'sixty', 'somehow', 'should', 'seeming', 'whom', 'enough', 'afterwards', 'one', 'me', 'thence', 'keep', 'twelve', 'whatever', 'the', 'yourself', 'hereby', 'another', 'be', 'he', 'same', 'above', 'eleven', 'has', 'into', 'etc', 'up', 'done', 'test1', 'go', 'him', 'describe', 'whereby', 'will', 'where', 'being', 'through', 'them', 'among', 'top', 'moreover', 'others', 'rather', 'its', 'word2', 'since', 'must', 'alone', 'thin', 'still', 'over', 'forty', 'hereafter', 'no', 'about', 'none', 'wherever', 'with', 'would', 'upon', 'behind', 'under', 'an', 'four', 'that', 'ltd', 'latterly', 'yet', 'besides', 'sincere', 'hence', 'they', 'thereupon', 'ours', 'we', 'my', 'thereafter', 'serious', 'below', 'this', 'whoever', 'neither', 'nobody', 'our', 're', 'for', 'fifteen', 'hundred', 'con', 'such', 'becoming', 'in', 'anyone', 'then', 'though', 'amoungst', 'hasnt', 'six', 'elsewhere', 'while', 'these', 'de', 'third', 'across', 'down', 'either', 'whole', 'am', 'became', 'there', 'she', 'if', 'why', 'onto', 'un', 'too', 'back', 'both', 'not', 'what', 'nine', 'made', 'those', 'on', 'see', 'therefore', 'which', 'hereupon', 'have', 'therein', 'at', 'mine', 'throughout', 'formerly', 'nowhere', 'very', 'are', 'couldnt', 'so', 'two', 'between', 'until', 'thus', 'fill', 'around', 'full', 'everyone', 'always', 'sometimes', 'amount', 'side', 'seems', 'eg', 'less', 'without', 'becomes', 'interest', 'had', 'because', 'anywhere', 'thereby', 'or', 'now', 'whereafter', 'from', 'who', 'herein', 'and', 'yourselves', 'nothing', 'much', 'is', 'do', 'can', 'herself', 'system', 'toward', 'ie', 'thru', 'although', 'empty', 'detail', 'itself', 'move', 'co', 'take', 'find', 'only', 'you', 'namely', 'any', 'everywhere', 'show', 'out', 'by', 'word', 'give', 'themselves', 'put', 'often', 'thick', 'call', 'mostly', 'per', 'us', 'after', 'whereas', 'even', 'it', 'somewhere', 'also', 'more', 'some', 'himself', 'else', 'whither', 'all', 'nor', 'noone', 'bottom', 'first', 'many', 'beside', 'whose', 'last', 'before', 'get', 'here', 'cant', 'otherwise', 'further', 'anything', 'whence', 'become', 'but', 'than', 'sometime', 'please', 'due', 'as', 'every', 'bill', 'anyhow', 'someone', 'a', 'next', 'perhaps', 'already', 'name', 'other', 'never', 'part', 'via', 'been', 'were', 'ourselves', 'test', 'few', 'five', 'eight', 'of', 'own', 'fire', 'beyond', 'fifty', 'seemed', 'towards', 'inc', 'former', 'during', 'cannot', 'i', 'when', 'off', 'least', 'mill', 'her', 'whereupon', 'their', 'could', 'cry', 'each', 'almost', 'to']\n"
     ]
    }
   ],
   "source": [
    "_stopwords.print()"
   ]
  },
  {
   "cell_type": "code",
   "execution_count": 38,
   "metadata": {},
   "outputs": [],
   "source": [
    "from nltk.corpus import stopwords"
   ]
  },
  {
   "cell_type": "code",
   "execution_count": 39,
   "metadata": {},
   "outputs": [
    {
     "name": "stderr",
     "output_type": "stream",
     "text": [
      "[nltk_data] Downloading package stopwords to\n",
      "[nltk_data]     C:\\Users\\valer_yj6xbzy\\AppData\\Roaming\\nltk_data...\n",
      "[nltk_data]   Package stopwords is already up-to-date!\n"
     ]
    },
    {
     "data": {
      "text/plain": [
       "True"
      ]
     },
     "execution_count": 39,
     "metadata": {},
     "output_type": "execute_result"
    }
   ],
   "source": [
    "import nltk\n",
    "nltk.download('stopwords')"
   ]
  },
  {
   "cell_type": "code",
   "execution_count": 40,
   "metadata": {},
   "outputs": [
    {
     "data": {
      "text/plain": [
       "['i', 'me', 'my', 'myself', 'we']"
      ]
     },
     "execution_count": 40,
     "metadata": {},
     "output_type": "execute_result"
    }
   ],
   "source": [
    "stopwords.words('english')[:5]"
   ]
  },
  {
   "cell_type": "code",
   "execution_count": 41,
   "metadata": {},
   "outputs": [
    {
     "data": {
      "text/plain": [
       "['au', 'aux', 'avec', 'ce', 'ces']"
      ]
     },
     "execution_count": 41,
     "metadata": {},
     "output_type": "execute_result"
    }
   ],
   "source": [
    "stopwords.words('french')[:5]"
   ]
  },
  {
   "cell_type": "code",
   "execution_count": 20,
   "metadata": {},
   "outputs": [],
   "source": [
    "from sklearn.feature_extraction.text import "
   ]
  },
  {
   "cell_type": "code",
   "execution_count": 25,
   "metadata": {},
   "outputs": [
    {
     "data": {
      "text/plain": [
       "['against',\n",
       " 'wherein',\n",
       " 'amongst',\n",
       " 'your',\n",
       " 'most',\n",
       " 'along',\n",
       " 'was',\n",
       " 'anyway',\n",
       " 'ten',\n",
       " 'several',\n",
       " 'front',\n",
       " 'how',\n",
       " 'myself',\n",
       " 'meanwhile',\n",
       " 'might']"
      ]
     },
     "execution_count": 25,
     "metadata": {},
     "output_type": "execute_result"
    }
   ],
   "source": [
    "list(ENGLISH_STOP_WORDS)[:15]"
   ]
  },
  {
   "cell_type": "code",
   "execution_count": null,
   "metadata": {},
   "outputs": [],
   "source": []
  }
 ],
 "metadata": {
  "kernelspec": {
   "display_name": "Python 3",
   "language": "python",
   "name": "python3"
  },
  "language_info": {
   "codemirror_mode": {
    "name": "ipython",
    "version": 3
   },
   "file_extension": ".py",
   "mimetype": "text/x-python",
   "name": "python",
   "nbconvert_exporter": "python",
   "pygments_lexer": "ipython3",
   "version": "3.7.3"
  }
 },
 "nbformat": 4,
 "nbformat_minor": 4
}
